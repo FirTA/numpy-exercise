{
 "cells": [
  {
   "cell_type": "markdown",
   "metadata": {},
   "source": [
    "This Question source https://www.machinelearningplus.com/python/101-numpy-exercises-python/"
   ]
  },
  {
   "cell_type": "code",
   "execution_count": 2,
   "metadata": {},
   "outputs": [
    {
     "name": "stdout",
     "output_type": "stream",
     "text": [
      "Numpy version :  1.23.2\n",
      "Numpy git_version :  21cacafbeeff812cf49ca0102d1dd582b6d77e2b\n"
     ]
    }
   ],
   "source": [
    "#1 Import numpy as np and see the version\n",
    "import numpy as np\n",
    "import time\n",
    "\n",
    "print(\"Numpy version : \", np.__version__)\n",
    "print(\"Numpy git_version : \", np.__git_version__)\n",
    "\n",
    "def gt():\n",
    "    start = time.time()\n",
    "    start_cpu = time.process_time() \n",
    "    return start,start_cpu\n",
    "\n"
   ]
  },
  {
   "cell_type": "code",
   "execution_count": 3,
   "metadata": {},
   "outputs": [
    {
     "name": "stdout",
     "output_type": "stream",
     "text": [
      "--- 0.00100 seconds ---\n"
     ]
    }
   ],
   "source": [
    "# 2. How to create a 1D array?\n",
    "\n",
    "# Difficulty Level: L1\n",
    "\n",
    "# Q. Create a 1D array of numbers from 0 to 9\n",
    "\n",
    "np.arange(10)\n",
    "start_time = time.time()\n",
    "print(\"--- %.7s seconds ---\" % ((time.time() - start_time)))"
   ]
  },
  {
   "cell_type": "code",
   "execution_count": 4,
   "metadata": {},
   "outputs": [
    {
     "name": "stdout",
     "output_type": "stream",
     "text": [
      "[[ True  True  True]\n",
      " [ True  True  True]\n",
      " [ True  True  True]]\n",
      "\n",
      "[[ True  True  True]\n",
      " [ True  True  True]\n",
      " [ True  True  True]]\n"
     ]
    }
   ],
   "source": [
    "# 3. How to create a boolean array?\n",
    "\n",
    "# Difficulty Level: L1\n",
    "\n",
    "# Q. Create a 3×3 numpy array of all True’s\n",
    "\n",
    "print(np.full((3,3), True, dtype = bool))\n",
    "print()\n",
    "print(np.ones((3,3), dtype=bool))\n"
   ]
  },
  {
   "cell_type": "code",
   "execution_count": 5,
   "metadata": {},
   "outputs": [
    {
     "data": {
      "text/plain": [
       "array([1, 3, 5, 7, 9])"
      ]
     },
     "execution_count": 5,
     "metadata": {},
     "output_type": "execute_result"
    }
   ],
   "source": [
    "# 4. How to extract items that satisfy a given condition from 1D array?\n",
    "\n",
    "# Difficulty Level: L1\n",
    "\n",
    "# Q. Extract all odd numbers from arr\n",
    "\n",
    "# Input:\n",
    "\n",
    "arr = np.array([0, 1, 2, 3, 4, 5, 6, 7, 8, 9])\n",
    "\n",
    "# Desired output:\n",
    "\n",
    "#> array([1, 3, 5, 7, 9])\n",
    "\n",
    "# ============ ANSWER ============ #\n",
    "\n",
    "odd = arr%2!=0\n",
    "arr[odd]\n",
    "\n",
    "# arr[arr%2==1] same\n"
   ]
  },
  {
   "cell_type": "code",
   "execution_count": 6,
   "metadata": {},
   "outputs": [
    {
     "data": {
      "text/plain": [
       "array([ 0, -1,  2, -1,  4, -1,  6, -1,  8, -1])"
      ]
     },
     "execution_count": 6,
     "metadata": {},
     "output_type": "execute_result"
    }
   ],
   "source": [
    "# 5. How to replace items that satisfy a condition with another value in numpy array?\n",
    "\n",
    "# Difficulty Level: L1\n",
    "\n",
    "# Q. Replace all odd numbers in arr with -1\n",
    "\n",
    "# Input:\n",
    "\n",
    "arr = np.array([0, 1, 2, 3, 4, 5, 6, 7, 8, 9])\n",
    "\n",
    "# Desired Output:\n",
    "\n",
    "#>  array([ 0, -1,  2, -1,  4, -1,  6, -1,  8, -1])\n",
    "\n",
    "# ============ ANSWER ============ #\n",
    "arr[arr%2==1] = -1\n",
    "arr\n"
   ]
  },
  {
   "cell_type": "code",
   "execution_count": 7,
   "metadata": {},
   "outputs": [
    {
     "name": "stdout",
     "output_type": "stream",
     "text": [
      "[ 0 -1  2 -1  4 -1  6 -1  8 -1]\n",
      "[0 1 2 3 4 5 6 7 8 9]\n"
     ]
    }
   ],
   "source": [
    "# 6. How to replace items that satisfy a condition without affecting the original array?\n",
    "\n",
    "# Difficulty Level: L2\n",
    "\n",
    "# Q. Replace all odd numbers in arr with -1 without changing arr\n",
    "\n",
    "# Input:\n",
    "\n",
    "arr = np.array([0, 1, 2, 3, 4, 5, 6, 7, 8, 9])\n",
    "\n",
    "# Desired Output:\n",
    "\n",
    "# out\n",
    "# #>  array([ 0, -1,  2, -1,  4, -1,  6, -1,  8, -1])\n",
    "# arr\n",
    "# #>  array([0, 1, 2, 3, 4, 5, 6, 7, 8, 9])\n",
    "\n",
    "# ============ ANSWER ============ #\n",
    "\n",
    "out = arr.copy()\n",
    "out[out%2==1] = -1\n",
    "print(out)\n",
    "print(arr)"
   ]
  },
  {
   "cell_type": "code",
   "execution_count": 8,
   "metadata": {},
   "outputs": [
    {
     "data": {
      "text/plain": [
       "array([[0, 1, 2, 3, 4],\n",
       "       [5, 6, 7, 8, 9]])"
      ]
     },
     "execution_count": 8,
     "metadata": {},
     "output_type": "execute_result"
    }
   ],
   "source": [
    "# 7. How to reshape an array?\n",
    "\n",
    "# Difficulty Level: L1\n",
    "\n",
    "# Q. Convert a 1D array to a 2D array with 2 rows\n",
    "\n",
    "# Input:\n",
    "\n",
    "array = np.arange(10)\n",
    "\n",
    "# #> array([ 0, 1, 2, 3, 4, 5, 6, 7, 8, 9])\n",
    "\n",
    "# Desired Output:\n",
    "\n",
    "# #> array([[0, 1, 2, 3, 4],\n",
    "# #>        [5, 6, 7, 8, 9]])\n",
    "\n",
    "# ============ ANSWER ============ #\n",
    "\n",
    "array.reshape(2,5)\n"
   ]
  },
  {
   "cell_type": "code",
   "execution_count": 9,
   "metadata": {},
   "outputs": [
    {
     "name": "stdout",
     "output_type": "stream",
     "text": [
      "Method 1 \n",
      " [[0 1 2 3 4]\n",
      " [5 6 7 8 9]\n",
      " [1 1 1 1 1]\n",
      " [1 1 1 1 1]]\n",
      "Method 2 \n",
      " [[0 1 2 3 4]\n",
      " [5 6 7 8 9]\n",
      " [1 1 1 1 1]\n",
      " [1 1 1 1 1]]\n",
      "Method 3 \n",
      " [[0 1 2 3 4]\n",
      " [5 6 7 8 9]\n",
      " [1 1 1 1 1]\n",
      " [1 1 1 1 1]]\n"
     ]
    }
   ],
   "source": [
    "# 8. How to stack two arrays vertically?\n",
    "\n",
    "# Difficulty Level: L2\n",
    "\n",
    "# Q. Stack arrays a and b vertically\n",
    "\n",
    "# Input\n",
    "\n",
    "a = np.arange(10).reshape(2,-1)\n",
    "b = np.repeat(1, 10).reshape(2,-1)\n",
    "\n",
    "# Desired Output:\n",
    "#> array([[0, 1, 2, 3, 4],\n",
    "#>        [5, 6, 7, 8, 9],\n",
    "#>        [1, 1, 1, 1, 1],\n",
    "#>        [1, 1, 1, 1, 1]])\n",
    "\n",
    "# ============ ANSWER ============ #\n",
    "\n",
    "print(\"Method 1 \\n\",np.concatenate([a,b], axis = 0))\n",
    "print(\"Method 2 \\n\",np.vstack([a,b]))\n",
    "print(\"Method 3 \\n\",np.r_[a,b])\n"
   ]
  },
  {
   "cell_type": "code",
   "execution_count": 10,
   "metadata": {},
   "outputs": [
    {
     "name": "stdout",
     "output_type": "stream",
     "text": [
      "a :  [[0 1 2 3 4]\n",
      " [5 6 7 8 9]]\n",
      "b :  [[1 1 1 1 1]\n",
      " [1 1 1 1 1]]\n",
      "result flatten\n",
      "Method 1 \n",
      " [[0 1 2 3 4 1 1 1 1 1]\n",
      " [5 6 7 8 9 1 1 1 1 1]]\n",
      "Method 2 \n",
      " [[0 1 2 3 4 1 1 1 1 1]\n",
      " [5 6 7 8 9 1 1 1 1 1]]\n",
      "Method 3 \n",
      " [[0 1 2 3 4 1 1 1 1 1]\n",
      " [5 6 7 8 9 1 1 1 1 1]]\n"
     ]
    }
   ],
   "source": [
    "# 9. How to stack two arrays horizontally?\n",
    "\n",
    "# Difficulty Level: L2\n",
    "\n",
    "# Q. Stack the arrays a and b horizontally.\n",
    "\n",
    "# Input\n",
    "\n",
    "a = np.arange(10).reshape(2,-1)\n",
    "\n",
    "b = np.repeat(1, 10).reshape(2,-1)\n",
    "\n",
    "# Desired Output:\n",
    "\n",
    "# #> array([[0, 1, 2, 3, 4, 1, 1, 1, 1, 1],\n",
    "# #>        [5, 6, 7, 8, 9, 1, 1, 1, 1, 1]])\n",
    "\n",
    "print(\"a : \",a)\n",
    "print(\"b : \",b)\n",
    "print(\"result flatten\")\n",
    "\n",
    "print(\"Method 1 \\n\",np.concatenate([a,b],axis=1))\n",
    "print(\"Method 2 \\n\",np.hstack([a,b]))\n",
    "print(\"Method 3 \\n\",np.c_[a,b])\n",
    "\n",
    "\n"
   ]
  },
  {
   "cell_type": "code",
   "execution_count": 11,
   "metadata": {},
   "outputs": [
    {
     "name": "stdout",
     "output_type": "stream",
     "text": [
      "This using numpy Tile :  [1 2 3 1 2 3 1 2 3]\n",
      "This using numpy repeat :  [1 1 1 2 2 2 3 3 3]\n"
     ]
    },
    {
     "data": {
      "text/plain": [
       "array([1, 1, 1, 2, 2, 2, 3, 3, 3, 1, 2, 3, 1, 2, 3, 1, 2, 3])"
      ]
     },
     "execution_count": 11,
     "metadata": {},
     "output_type": "execute_result"
    }
   ],
   "source": [
    "# 10. How to generate custom sequences in numpy without hardcoding?\n",
    "\n",
    "# Difficulty Level: L2\n",
    "\n",
    "# Q. Create the following pattern without hardcoding. Use only numpy functions and the below input array a.\n",
    "\n",
    "# Input:\n",
    "\n",
    "a = np.array([1,2,3])\n",
    "\n",
    "# Desired Output:\n",
    "\n",
    "# #> array([1, 1, 1, 2, 2, 2, 3, 3, 3, 1, 2, 3, 1, 2, 3, 1, 2, 3])\n",
    "\n",
    "aTile = np.tile(a,3)\n",
    "aRepeat = np.repeat(a,3)\n",
    "print(\"This using numpy Tile : \",aTile)\n",
    "print(\"This using numpy repeat : \",aRepeat)\n",
    "np.concatenate([aRepeat,aTile])\n",
    "\n",
    "\n"
   ]
  },
  {
   "cell_type": "code",
   "execution_count": 12,
   "metadata": {},
   "outputs": [
    {
     "data": {
      "text/plain": [
       "array([2, 4])"
      ]
     },
     "execution_count": 12,
     "metadata": {},
     "output_type": "execute_result"
    }
   ],
   "source": [
    "# 11. How to get the common items between two python numpy arrays?\n",
    "\n",
    "# Difficulty Level: L2\n",
    "\n",
    "# Q. Get the common items between a and b\n",
    "\n",
    "# Input:\n",
    "\n",
    "a = np.array([1,2,3,2,3,4,3,4,5,6])\n",
    "b = np.array([7,2,10,2,7,4,9,4,9,8])\n",
    "\n",
    "# Desired Output:\n",
    "\n",
    "# array([2, 4])\n",
    "np.intersect1d(a,b)\n"
   ]
  },
  {
   "cell_type": "code",
   "execution_count": 13,
   "metadata": {},
   "outputs": [
    {
     "data": {
      "text/plain": [
       "array([1, 2, 3, 4])"
      ]
     },
     "execution_count": 13,
     "metadata": {},
     "output_type": "execute_result"
    }
   ],
   "source": [
    "# 12. How to remove from one array those items that exist in another?\n",
    "\n",
    "# Difficulty Level: L2\n",
    "\n",
    "# Q. From array a remove all items present in array b\n",
    "\n",
    "# Input:\n",
    "\n",
    "a = np.array([1,2,3,4,5])\n",
    "b = np.array([5,6,7,8,9])\n",
    "\n",
    "# Desired Output:\n",
    "\n",
    "# array([1,2,3,4])\n",
    "\n",
    "np.setdiff1d(a,b)\n"
   ]
  },
  {
   "cell_type": "code",
   "execution_count": 14,
   "metadata": {},
   "outputs": [
    {
     "data": {
      "text/plain": [
       "(array([1, 3, 5, 7], dtype=int64),)"
      ]
     },
     "execution_count": 14,
     "metadata": {},
     "output_type": "execute_result"
    }
   ],
   "source": [
    "# 13. How to get the positions where elements of two arrays match?\n",
    "\n",
    "# Difficulty Level: L2\n",
    "\n",
    "# Q. Get the positions where elements of a and b match\n",
    "\n",
    "# Input:\n",
    "\n",
    "a = np.array([1,2,3,2,3,4,3,4,5,6])\n",
    "b = np.array([7,2,10,2,7,4,9,4,9,8])\n",
    "\n",
    "# Desired Output:\n",
    "\n",
    "# #> (array([1, 3, 5, 7]),)\n",
    "np.where(a==b)\n"
   ]
  },
  {
   "cell_type": "code",
   "execution_count": 15,
   "metadata": {},
   "outputs": [
    {
     "data": {
      "text/plain": [
       "array([ 6,  9, 10])"
      ]
     },
     "execution_count": 15,
     "metadata": {},
     "output_type": "execute_result"
    }
   ],
   "source": [
    "# 14. How to extract all numbers between a given range from a numpy array?\n",
    "\n",
    "# Difficulty Level: L2\n",
    "\n",
    "# Q. Get all items between 5 and 10 from a.\n",
    "\n",
    "# Input:\n",
    "\n",
    "a = np.array([2, 6, 1, 9, 10, 3, 27])\n",
    "\n",
    "# Desired Output:\n",
    "\n",
    "# (array([6, 9, 10]),)\n",
    "# Method 1\n",
    "index = np.where(((a>=5) & (a<=10)))\n",
    "a[index]\n",
    "\n",
    "# Method 2\n",
    "index = np.where(np.logical_and(a>=5,a<=10))\n",
    "a[index]\n",
    "\n",
    "# Method 3\n",
    "a[(a>=5)&(a<=10)]"
   ]
  },
  {
   "cell_type": "code",
   "execution_count": 16,
   "metadata": {},
   "outputs": [
    {
     "name": "stdout",
     "output_type": "stream",
     "text": [
      "Method 1 \n",
      "[849. 368. 921. 785. 348.]\n",
      "Execution time: 3093.005418777466 miliseconds\n",
      "Execution CPU time: 3031.25 miliseconds\n",
      "\n",
      "Method 2 \n",
      "[849. 368. 921. 785. 348.]\n",
      "Execution time: 833.9958190917969 miliseconds\n",
      "Execution CPU time: 828.125 miliseconds\n"
     ]
    }
   ],
   "source": [
    "# 15. How to make a python function that handles scalars to work on numpy arrays?\n",
    "\n",
    "# Difficulty Level: L2\n",
    "\n",
    "# Q. Convert the function maxx that works on two scalars, to work on two arrays.\n",
    "\n",
    "# Input:\n",
    "\n",
    "# def maxx(x, y):\n",
    "#     \"\"\"Get the maximum of two items\"\"\"\n",
    "#     if x >= y:\n",
    "#         return x\n",
    "#     else:\n",
    "#         return y\n",
    "\n",
    "# maxx(1, 5)\n",
    "#> 5\n",
    "\n",
    "# Desired Output:\n",
    "\n",
    "# a = np.array([5, 7, 9, 8, 6, 4, 5])\n",
    "# b = np.array([6, 3, 4, 8, 9, 7, 1])\n",
    "# pair_max(a, b)\n",
    "# #> array([ 6.,  7.,  9.,  8.,  9.,  7.,  5.])\n",
    "\n",
    "# ============================ ANSWER ============================ #\n",
    "\n",
    "def maxx(x, y):\n",
    "    \"\"\"Get the maximum of two items\"\"\"\n",
    "    if x >= y:\n",
    "        return x\n",
    "    else:\n",
    "        return y\n",
    "\n",
    "def gt():\n",
    "    start = time.time()\n",
    "    start_cpu = time.process_time() \n",
    "    return start,start_cpu\n",
    "# Original input\n",
    "# a = np.array([5, 7, 9, 8, 6, 4, 5])\n",
    "# b = np.array([6, 3, 4, 8, 9, 7, 1]\n",
    "\n",
    "# experimental input\n",
    "a = np.random.randint(0,1000,10**6)\n",
    "b = np.random.randint(0,1000,10**6)\n",
    "\n",
    "# print(a,\"\\n\",b)\n",
    "\n",
    "# ======== METHOD 1\n",
    "print(\"Method 1 \")\n",
    "\n",
    "st, stc = gt()\n",
    "c=[]\n",
    "\n",
    "for i in range(len(a)):\n",
    "    result = maxx(a[i],b[i])\n",
    "    c.append(result)\n",
    "\n",
    "print(np.array(c,dtype=float)[:5])\n",
    "\n",
    "et, etc = gt()\n",
    "print('Execution time:', (et - st)*1000, 'miliseconds')\n",
    "print('Execution CPU time:', (etc - stc)*1000, 'miliseconds')\n",
    "print()\n",
    "# ======== METHOD 2\n",
    "print(\"Method 2 \")\n",
    "\n",
    "st, stc = gt()\n",
    "pair_max = np.vectorize(maxx, otypes=[float])\n",
    "print(pair_max(a,b)[:5])\n",
    "\n",
    "et, etc = gt()\n",
    "print('Execution time:', (et - st)*1000, 'miliseconds')\n",
    "print('Execution CPU time:', (etc - stc)*1000, 'miliseconds')\n",
    "\n",
    "# using np.vectorize more faster\n",
    "# syntax np.vectorize\n",
    "# vectorize_funcunction = np.vectorize (function, parameter 1, parameter 2….. parameter N)\n",
    "# vectorize func: return a new array from implementing the function\n"
   ]
  },
  {
   "cell_type": "code",
   "execution_count": 17,
   "metadata": {},
   "outputs": [
    {
     "data": {
      "text/plain": [
       "array([[2, 0, 1],\n",
       "       [5, 3, 4],\n",
       "       [8, 6, 7]])"
      ]
     },
     "execution_count": 17,
     "metadata": {},
     "output_type": "execute_result"
    }
   ],
   "source": [
    "# 16. How to swap two columns in a 2d numpy array?\n",
    "\n",
    "# Difficulty Level: L2\n",
    "\n",
    "# Q. Swap columns 1 and 2 in the array arr.\n",
    "\n",
    "# arr = np.arange(9).reshape(3,3)\n",
    "# arr\n",
    "\n",
    "# ======================= ANSWER ======================= #\n",
    "arr = np.arange(9).reshape(3,3)\n",
    "arr[:,[2,0,1]] #  [: -> row, 0 1 2->is the position]"
   ]
  },
  {
   "cell_type": "code",
   "execution_count": 18,
   "metadata": {},
   "outputs": [
    {
     "data": {
      "text/plain": [
       "array([[3, 4, 5],\n",
       "       [6, 7, 8],\n",
       "       [0, 1, 2]])"
      ]
     },
     "execution_count": 18,
     "metadata": {},
     "output_type": "execute_result"
    }
   ],
   "source": [
    "# 17. How to swap two rows in a 2d numpy array?\n",
    "\n",
    "# Difficulty Level: L2\n",
    "\n",
    "# Q. Swap rows 1 and 2 in the array arr:\n",
    "\n",
    "# arr = np.arange(9).reshape(3,3)\n",
    "# arr\n",
    "\n",
    "# ======================= ANSWER ======================= #\n",
    "arr = np.arange(9).reshape(3,3)\n",
    "arr[[1,2,0],:]\n"
   ]
  },
  {
   "cell_type": "code",
   "execution_count": 19,
   "metadata": {},
   "outputs": [
    {
     "name": "stdout",
     "output_type": "stream",
     "text": [
      "[[0 1 2]\n",
      " [3 4 5]\n",
      " [6 7 8]]\n"
     ]
    },
    {
     "data": {
      "text/plain": [
       "array([[6, 7, 8],\n",
       "       [3, 4, 5],\n",
       "       [0, 1, 2]])"
      ]
     },
     "execution_count": 19,
     "metadata": {},
     "output_type": "execute_result"
    }
   ],
   "source": [
    "# 18. How to reverse the rows of a 2D array?\n",
    "\n",
    "# Difficulty Level: L2\n",
    "\n",
    "# Q. Reverse the rows of a 2D array arr.\n",
    "\n",
    "# # Input\n",
    "# arr = np.arange(9).reshape(3,3)\n",
    "\n",
    "# ================= ANSWER ================= # \n",
    "arr = np.arange(9).reshape(3,3)\n",
    "print(arr)\n",
    "arr[::-1]"
   ]
  },
  {
   "cell_type": "code",
   "execution_count": 20,
   "metadata": {},
   "outputs": [
    {
     "data": {
      "text/plain": [
       "array([[2, 1, 0],\n",
       "       [5, 4, 3],\n",
       "       [8, 7, 6]])"
      ]
     },
     "execution_count": 20,
     "metadata": {},
     "output_type": "execute_result"
    }
   ],
   "source": [
    "# 19. How to reverse the columns of a 2D array?\n",
    "\n",
    "# Difficulty Level: L2\n",
    "\n",
    "# Q. Reverse the columns of a 2D array arr.\n",
    "\n",
    "# # Input\n",
    "# arr = np.arange(9).reshape(3,3)\n",
    "\n",
    "# ================= ANSWER ================= # \n",
    "arr = np.arange(9).reshape(3,3)\n",
    "arr[:,::-1]"
   ]
  },
  {
   "cell_type": "code",
   "execution_count": 21,
   "metadata": {},
   "outputs": [
    {
     "name": "stdout",
     "output_type": "stream",
     "text": [
      "[[6 7 5]\n",
      " [8 6 5]\n",
      " [9 9 7]\n",
      " [7 5 6]\n",
      " [6 8 9]]\n",
      "Execution time: 3.9992332458496094 miliseconds\n",
      "Execution CPU time: 0.0 miliseconds\n"
     ]
    }
   ],
   "source": [
    "# 20. How to create a 2D array containing random floats between 5 and 10?\n",
    "\n",
    "# Difficulty Level: L2\n",
    "\n",
    "# Q. Create a 2D array of shape 5x3 to contain random decimal numbers between 5 and 10.\n",
    "\n",
    "# ================= ANSWER ================= #\n",
    "# input\n",
    "st,stc = gt()\n",
    "arr = np.arange(9).reshape(3,3)\n",
    "\n",
    "arr_rand = np.random.randint(low=5,high=10,size=(5,3))\n",
    "print(arr_rand)\n",
    "arr_rand = np.random.randint(low=5,high=10,size=(5,3)) + np.random.random((5,3))\n",
    "# np.random.random return float array\n",
    "# print(arr_rand)\n",
    "et, etc = gt()\n",
    "print('Execution time:', (et - st)*1000, 'miliseconds')\n",
    "print('Execution CPU time:', (etc - stc)*1000, 'miliseconds')"
   ]
  },
  {
   "cell_type": "code",
   "execution_count": 22,
   "metadata": {},
   "outputs": [
    {
     "name": "stdout",
     "output_type": "stream",
     "text": [
      "[[0.69905796 0.97178008 0.4669013 ]\n",
      " [0.3927246  0.73771523 0.598196  ]\n",
      " [0.24111008 0.04618302 0.46470177]\n",
      " [0.24979765 0.56403697 0.83824775]\n",
      " [0.28626282 0.81073831 0.04516971]]\n",
      "[[0.13032889 0.09974563 0.66960257]\n",
      " [0.75854567 0.97865951 0.64285736]\n",
      " [0.51220493 0.1024678  0.55187981]\n",
      " [0.94077675 0.18618711 0.57614288]\n",
      " [0.95198835 0.5665044  0.58020487]]\n"
     ]
    },
    {
     "data": {
      "text/plain": [
       "array([[0.13 , 0.1  , 0.67 ],\n",
       "       [0.759, 0.979, 0.643],\n",
       "       [0.512, 0.102, 0.552],\n",
       "       [0.941, 0.186, 0.576]])"
      ]
     },
     "execution_count": 22,
     "metadata": {},
     "output_type": "execute_result"
    }
   ],
   "source": [
    "# 21. How to print only 3 decimal places in python numpy array?\n",
    "\n",
    "# Difficulty Level: L1\n",
    "\n",
    "# Q. Print or show only 3 decimal places of the numpy array rand_arr.\n",
    "\n",
    "# Input:\n",
    "\n",
    "# rand_arr = np.random.random((5,3))\n",
    "\n",
    "rand_arr = np.random.random((5,3))\n",
    "print(rand_arr)\n",
    "\n",
    "rand_arr = np.random.random([5,3])\n",
    "print(rand_arr)\n",
    "\n",
    "np.set_printoptions(precision=3)\n",
    "rand_arr[:4]"
   ]
  },
  {
   "cell_type": "code",
   "execution_count": 23,
   "metadata": {},
   "outputs": [
    {
     "name": "stdout",
     "output_type": "stream",
     "text": [
      "[[0.000543 0.000278 0.000425]\n",
      " [0.000845 0.000005 0.000122]\n",
      " [0.000671 0.000826 0.000137]]\n"
     ]
    }
   ],
   "source": [
    "# 22. How to pretty print a numpy array by suppressing the scientific notation (like 1e10)?\n",
    "\n",
    "# Difficulty Level: L1\n",
    "\n",
    "# Q. Pretty print rand_arr by suppressing the scientific notation (like 1e10)\n",
    "\n",
    "# Input:\n",
    "\n",
    "# # Create the random array\n",
    "# np.random.seed(100)\n",
    "# rand_arr = np.random.random([3,3])/1e3\n",
    "# rand_arr\n",
    "\n",
    "# #> array([[  5.434049e-04,   2.783694e-04,   4.245176e-04],\n",
    "# #>        [  8.447761e-04,   4.718856e-06,   1.215691e-04],\n",
    "# #>        [  6.707491e-04,   8.258528e-04,   1.367066e-04]])\n",
    "\n",
    "# Desired Output:\n",
    "\n",
    "# #> array([[ 0.000543,  0.000278,  0.000425],\n",
    "# #>        [ 0.000845,  0.000005,  0.000122],\n",
    "# #>        [ 0.000671,  0.000826,  0.000137]])\n",
    "\n",
    "\n",
    "np.random.seed(100)\n",
    "rand_arr = np.random.random([3,3])/1e3\n",
    "np.set_printoptions(precision=6,suppress=True)\n",
    "print(rand_arr)"
   ]
  },
  {
   "cell_type": "code",
   "execution_count": 25,
   "metadata": {},
   "outputs": [
    {
     "data": {
      "text/plain": [
       "array([ 0,  1,  2, ..., 12, 13, 14])"
      ]
     },
     "execution_count": 25,
     "metadata": {},
     "output_type": "execute_result"
    }
   ],
   "source": [
    "# 23. How to limit the number of items printed in output of numpy array?\n",
    "\n",
    "# Difficulty Level: L1\n",
    "\n",
    "# Q. Limit the number of items printed in python numpy array a to a maximum of 6 elements.\n",
    "\n",
    "# Input:\n",
    "\n",
    "# a = np.arange(15)\n",
    "# #> array([ 0,  1,  2,  3,  4,  5,  6,  7,  8,  9, 10, 11, 12, 13, 14])\n",
    "\n",
    "# Desired Output:\n",
    "\n",
    "# #> array([ 0,  1,  2, ..., 12, 13, 14])\n",
    "np.set_printoptions(threshold= 6)\n",
    "np.arange(15)\n"
   ]
  },
  {
   "cell_type": "markdown",
   "metadata": {},
   "source": [
    "NumPy | set_printoptions method\n",
    "https://www.skytowner.com/explore/numpy_set_printoptions_method#examples/specifying_edgeitems"
   ]
  },
  {
   "cell_type": "code",
   "execution_count": null,
   "metadata": {},
   "outputs": [],
   "source": []
  },
  {
   "cell_type": "code",
   "execution_count": null,
   "metadata": {},
   "outputs": [],
   "source": []
  }
 ],
 "metadata": {
  "kernelspec": {
   "display_name": "Python 3.10.8 64-bit (microsoft store)",
   "language": "python",
   "name": "python3"
  },
  "language_info": {
   "codemirror_mode": {
    "name": "ipython",
    "version": 3
   },
   "file_extension": ".py",
   "mimetype": "text/x-python",
   "name": "python",
   "nbconvert_exporter": "python",
   "pygments_lexer": "ipython3",
   "version": "3.10.8"
  },
  "orig_nbformat": 4,
  "vscode": {
   "interpreter": {
    "hash": "b6c1b03491274db78edbf399774f02ce127dc45676627776a092fc376f583ae1"
   }
  }
 },
 "nbformat": 4,
 "nbformat_minor": 2
}
